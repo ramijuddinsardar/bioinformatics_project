{
  "nbformat": 4,
  "nbformat_minor": 0,
  "metadata": {
    "colab": {
      "provenance": []
    },
    "kernelspec": {
      "name": "python3",
      "display_name": "Python 3"
    },
    "language_info": {
      "name": "python"
    }
  },
  "cells": [
    {
      "cell_type": "markdown",
      "source": [
        "Mutation_frequency_visualize"
      ],
      "metadata": {
        "id": "K5OPWR8mkYQj"
      }
    },
    {
      "cell_type": "code",
      "execution_count": 5,
      "metadata": {
        "id": "jzNdMGazkL6T"
      },
      "outputs": [],
      "source": [
        "from Bio import SeqIO\n",
        "from Bio.Align.Applications import ClustalOmegaCommandline"
      ]
    },
    {
      "cell_type": "code",
      "source": [
        "# sequence loading, have to put a fasta file\n",
        "sequence = [str(record.seq) for record in SeqIO.parse(\"spike_sequences.fasta\", \"fasta\")]"
      ],
      "metadata": {
        "id": "xuRWdyirk31l"
      },
      "execution_count": null,
      "outputs": []
    },
    {
      "cell_type": "code",
      "source": [
        "# align sequence using clustal omega\n",
        "clustal_omega = ClustalOmegaCommandline(infile=\"spike_sequences.fasta\", outfile=\"aligned_spike.fasta\", verbose=True, auto=True)\n",
        "stdout, stderr = clustal_omega()"
      ],
      "metadata": {
        "id": "MrHQR9zDlvI6"
      },
      "execution_count": null,
      "outputs": []
    },
    {
      "cell_type": "code",
      "source": [
        "from Bio import AlignIO\n",
        "import pandas as pd"
      ],
      "metadata": {
        "id": "ecOB2JbymcBE"
      },
      "execution_count": null,
      "outputs": []
    },
    {
      "cell_type": "code",
      "source": [
        "# mutation analysis\n",
        "alignment = AlignIO.read(\"aligned_spike.fasta\", \"fasta\")\n",
        "\n",
        "# compare sequence to reference\n",
        "reference = str(alignment[0].seq)\n",
        "mutations = []\n",
        "\n",
        "for record in alignment[1:]:\n",
        "    sample_id = record.id\n",
        "    seq = str(record.seq)\n",
        "    for i, (ref_base, sample_base) in enumerate(zip(reference, seq)):\n",
        "        if ref_base != sample_base:\n",
        "            mutations.append({\"Sample\" : sample_id, \"Position\" : i + 1, \"Reference\" : ref_base, \"Variant\" : sample_base})"
      ],
      "metadata": {
        "id": "nmHHqP2ZmqSp"
      },
      "execution_count": null,
      "outputs": []
    },
    {
      "cell_type": "code",
      "source": [
        "# create mutation dataframe\n",
        "mutation_df = pd.DataFrame(mutations)\n",
        "print(mutation_df.head())"
      ],
      "metadata": {
        "id": "ab_2ziiqoEX-"
      },
      "execution_count": null,
      "outputs": []
    },
    {
      "cell_type": "code",
      "source": [
        "# visualization\n",
        "import seaborn as sns\n",
        "import matplotlib.pyplot as plt\n",
        "\n",
        "# plot mutation frequency\n",
        "mutation_frequency = mutation_df['Position'].value_counts()\n",
        "sns.barplot(x=mutation_frequency.index, y=mutation_frequency.values)\n",
        "plt.title(\"Mutation Frequency in SARS-CoV-2 Spike Protein\")\n",
        "plt.xlabel(\"Position\")\n",
        "plt.ylabel(\"Frequency\")\n",
        "plt.show()"
      ],
      "metadata": {
        "id": "ZQVP3OdOoRH-"
      },
      "execution_count": null,
      "outputs": []
    }
  ]
}