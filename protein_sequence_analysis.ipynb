{
  "nbformat": 4,
  "nbformat_minor": 0,
  "metadata": {
    "colab": {
      "provenance": []
    },
    "kernelspec": {
      "name": "python3",
      "display_name": "Python 3"
    },
    "language_info": {
      "name": "python"
    }
  },
  "cells": [
    {
      "cell_type": "markdown",
      "source": [
        "**Protein Sequence Analysis and Visualization**"
      ],
      "metadata": {
        "id": "zGcg2OZYYY4_"
      }
    },
    {
      "cell_type": "code",
      "source": [
        "from Bio.SeqUtils import molecular_weight\n",
        "from Bio.SeqUtils.ProtParam import ProteinAnalysis\n",
        "from Bio import SeqIO\n",
        "import matplotlib.pyplot as plt\n",
        "import pandas as pd"
      ],
      "metadata": {
        "id": "QW832-i-ll7Z"
      },
      "execution_count": 2,
      "outputs": []
    },
    {
      "cell_type": "code",
      "source": [
        "def read_fasta(file):\n",
        "    with open(file, 'r') as f:\n",
        "        for record in SeqIO.parse(f, 'fasta'):\n",
        "            return str(record.seq)"
      ],
      "metadata": {
        "id": "Z1DzGXBKnQay"
      },
      "execution_count": 3,
      "outputs": []
    },
    {
      "cell_type": "code",
      "source": [
        "def amino_acid_composition(sequence):\n",
        "    analyzed_seq = ProteinAnalysis(sequence)\n",
        "    return analyzed_seq.get_amino_acids_percent()\n"
      ],
      "metadata": {
        "id": "UBLAhekNn1Fw"
      },
      "execution_count": 6,
      "outputs": []
    },
    {
      "cell_type": "code",
      "source": [
        "def calculate_molecular_weight(sequence):\n",
        "    return molecular_weight(sequence, seq_type='protein')"
      ],
      "metadata": {
        "id": "rRvX91_cpZaG"
      },
      "execution_count": 23,
      "outputs": []
    },
    {
      "source": [
        "def visualize_amino_acid_composition(composition):\n",
        "    amino_acids = list(composition.keys())\n",
        "    percentages = list(composition.values())\n",
        "\n",
        "    plt.bar(amino_acids, percentages, color='skyblue')\n",
        "    plt.title('Amino Acid Composition')\n",
        "    plt.xlabel('Amino Acids')\n",
        "    plt.ylabel('Percentage')\n",
        "    plt.show()"
      ],
      "cell_type": "code",
      "metadata": {
        "id": "nz-O2vmXNA2k"
      },
      "execution_count": 19,
      "outputs": []
    },
    {
      "cell_type": "code",
      "source": [
        "if __name__ == '__main__':\n",
        "    protein_sequence = read_fasta('protein.fasta')\n",
        "\n",
        "    composition = amino_acid_composition(protein_sequence)\n",
        "    print(\"Amino Acid Composition(%) : \", composition)\n",
        "\n",
        "    mol_weight = calculate_molecular_weight(protein_sequence)\n",
        "    print(\"Molecular Weight (Da) : \", mol_weight)\n",
        "\n",
        "    visualize_amino_acid_composition(composition)"
      ],
      "metadata": {
        "id": "sriG6bEwOILd"
      },
      "execution_count": null,
      "outputs": []
    }
  ]
}