{
  "nbformat": 4,
  "nbformat_minor": 0,
  "metadata": {
    "colab": {
      "provenance": []
    },
    "kernelspec": {
      "name": "python3",
      "display_name": "Python 3"
    },
    "language_info": {
      "name": "python"
    }
  },
  "cells": [
    {
      "cell_type": "markdown",
      "source": [
        "Predicting protein secondary structure"
      ],
      "metadata": {
        "id": "0k5vG25O_b-1"
      }
    },
    {
      "cell_type": "code",
      "source": [
        "import pandas as pd\n",
        "import numpy as np\n",
        "from sklearn.ensemble import RandomForestClassifier\n",
        "from sklearn.model_selection import train_test_split\n",
        "from sklearn.metrics import classification_report, confusion_matrix\n",
        "import matplotlib.pyplot as plt"
      ],
      "metadata": {
        "id": "GmbWQw0i_XrY"
      },
      "execution_count": 3,
      "outputs": []
    },
    {
      "cell_type": "code",
      "source": [
        "def load_data(file):\n",
        "    data = pd.read_csv(file)\n",
        "    return data"
      ],
      "metadata": {
        "id": "QwtBukWPA0Si"
      },
      "execution_count": 4,
      "outputs": []
    },
    {
      "cell_type": "code",
      "source": [
        "def extract_features(sequence, window_size=5):\n",
        "    features = []\n",
        "    half_window = window_size // 2\n",
        "    padded_sequence = \"-\" * half_window +sequence + \"-\" * half_window\n",
        "    for i in range(half_window, len(padded_sequence) - half_window):\n",
        "        window = padded_sequence[i - half_window: i + half_window + 1]\n",
        "        features.append([ord(aa) for aa in window])\n",
        "    return np.array(features)"
      ],
      "metadata": {
        "id": "d15d-NZRBPXv"
      },
      "execution_count": 5,
      "outputs": []
    },
    {
      "cell_type": "code",
      "source": [
        "# train model\n",
        "def train_model(x, y):\n",
        "    model = RandomForestClassifier()\n",
        "    model.fit(x, y)\n",
        "    return model"
      ],
      "metadata": {
        "id": "HfR82QhcCTLW"
      },
      "execution_count": 6,
      "outputs": []
    },
    {
      "cell_type": "code",
      "source": [
        "# predict and evaluate\n",
        "def evaluate_model(model, x_test, y_test):\n",
        "    y_pred = model.predict(x_test)\n",
        "    print(classification_report(y_test, y_pred))\n",
        "    cm = confusion_matrix(y_test, y_pred)\n",
        "    plt.imshow(cm, cmap='coolwarm', interpolation='nearest')\n",
        "    plt.title('Confusion Matrix')\n",
        "    plt.colorbar()\n",
        "    plt.show()"
      ],
      "metadata": {
        "id": "4sOII-jJMfBY"
      },
      "execution_count": 7,
      "outputs": []
    },
    {
      "cell_type": "code",
      "source": [
        "if __name__ == \"__main__\":\n",
        "    data = load_data('/content/another.csv')  #replace with actual file here\n",
        "    sequence = data['sequence']\n",
        "    labels = data['Secondary Structure']"
      ],
      "metadata": {
        "id": "EazHmT8BQhYr"
      },
      "execution_count": 8,
      "outputs": []
    },
    {
      "cell_type": "code",
      "source": [
        "# feature extraction\n",
        "x = np.vstack([extract_features(seq) for seq in sequence])\n",
        "y = np.concatenate([list(lbl) for lbl in labels])"
      ],
      "metadata": {
        "id": "HdoWDtBfREMY"
      },
      "execution_count": 9,
      "outputs": []
    },
    {
      "cell_type": "code",
      "source": [
        "# train test split\n",
        "x_train, x_test, y_train, y_test = train_test_split(x,y,test_size=0.2, random_state=42)\n",
        "model = train_model(x_train, y_train)\n",
        "evaluate_model(model, x_test, y_test)"
      ],
      "metadata": {
        "id": "pYv8_ZfLRieP"
      },
      "execution_count": null,
      "outputs": []
    },
    {
      "cell_type": "code",
      "source": [
        "# predict on new sequence\n",
        "new_sequence = \"ACDEFGHIKLMNPQRSTVWY\"\n",
        "new_features = extract_features(new_sequence)\n",
        "prediction = model.predict(new_features)\n",
        "print(\"Predicted Sedondary Structure : \", \"\".join(prediction))\n"
      ],
      "metadata": {
        "id": "ueUWT2IFShvP"
      },
      "execution_count": null,
      "outputs": []
    }
  ]
}