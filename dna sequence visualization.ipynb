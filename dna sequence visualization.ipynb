{
  "nbformat": 4,
  "nbformat_minor": 0,
  "metadata": {
    "colab": {
      "provenance": []
    },
    "kernelspec": {
      "name": "python3",
      "display_name": "Python 3"
    },
    "language_info": {
      "name": "python"
    }
  },
  "cells": [
    {
      "cell_type": "markdown",
      "source": [
        "**DNA Sequence Analysis and Visualization**"
      ],
      "metadata": {
        "id": "vcZmn_x-qUQp"
      }
    },
    {
      "cell_type": "code",
      "source": [
        "from Bio import SeqIO\n",
        "import matplotlib.pyplot as plt\n",
        "import pandas as pd"
      ],
      "metadata": {
        "id": "LpwFQnDPSWgH"
      },
      "execution_count": 3,
      "outputs": []
    },
    {
      "cell_type": "code",
      "source": [
        "def read_fasta(file):\n",
        "    with open(file, 'r') as f:\n",
        "        for record in SeqIO.parse(f, 'fasta'):\n",
        "            return str(record.seq)"
      ],
      "metadata": {
        "id": "APhBuWjxSmK7"
      },
      "execution_count": 10,
      "outputs": []
    },
    {
      "cell_type": "code",
      "source": [
        "def calculate_gc_content(sequence):\n",
        "    gc_count = sequence.count('G') + sequence.count('C')\n",
        "    return (gc_count / len(sequence)) * 100"
      ],
      "metadata": {
        "id": "g1UG88ecU6w2"
      },
      "execution_count": 5,
      "outputs": []
    },
    {
      "cell_type": "code",
      "source": [
        "def get_complementary_sequence(sequence):\n",
        "    complement = {'A' : 'T', 'T' : 'A', 'G' : 'C', 'C' : 'G'}\n",
        "    return ''.join([complement[base] for base in sequence])"
      ],
      "metadata": {
        "id": "G6l5NyxZYddd"
      },
      "execution_count": 7,
      "outputs": []
    },
    {
      "cell_type": "code",
      "source": [
        "def find_motif(sequence, motif):\n",
        "    positions = [i for i in range(len(sequence)-len(motif)+1) if sequence[i:i+ len(motif)] == motif]"
      ],
      "metadata": {
        "id": "FhJvJtjuVnC7"
      },
      "execution_count": 15,
      "outputs": []
    },
    {
      "cell_type": "code",
      "source": [
        "def visualize_gc_content(sequence):\n",
        "    gc_content = [calculate_gc_content(sequence[i:i+10]) for i in range(0, len(sequence) - 9)]\n",
        "    plt.plot(gc_content)\n",
        "    plt.title('GC Content Distribution (Sliding Window of 10)')\n",
        "    plt.xlabel('Window start position')\n",
        "    plt.ylabel('GC Content (%)')\n",
        "    plt.show()"
      ],
      "metadata": {
        "id": "WuyxfKM4dh-y"
      },
      "execution_count": 14,
      "outputs": []
    },
    {
      "cell_type": "code",
      "source": [
        "if __name__ == '__main__':\n",
        "    dna_sequence = read_fasta('sequence.fasta')\n",
        "    print(\"Original Sequence : \", dna_sequence)\n",
        "    print(\"GC Content (%) : \", calculate_gc_content(dna_sequence))\n",
        "    print(\"Complementary Sequence : \", get_complementary_sequence(dna_sequence))\n",
        "    print(\"Motif 'ATG' Found at Position : \", find_motif(dna_sequence, \"ATG\"))\n",
        "\n",
        "    visualize_gc_content(dna_sequence)"
      ],
      "metadata": {
        "id": "HA6jgn7ghp2b"
      },
      "execution_count": null,
      "outputs": []
    }
  ]
}